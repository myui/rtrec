{
 "cells": [
  {
   "cell_type": "markdown",
   "id": "39c438d1",
   "metadata": {
    "vscode": {
     "languageId": "tex"
    }
   },
   "source": [
    "# Hybrid Recommendation System using H&M Dataset\n",
    "\n",
    "This notebook demonstrates the process of building and evaluating a hybrid recommendation system using the [H&M Personalized Fashion Recommendations dataset](https://www.kaggle.com/competitions/h-and-m-personalized-fashion-recommendations). The process includes loading datasets, preprocessing, splitting data temporally, and training multiple recommendation models. \n",
    "\n",
    "The key steps are as follows:\n",
    "\n",
    "1. **Dataset Loading**:\n",
    "    - Load the H&M transactions dataset, user tags, and item tags using utility functions from the `rtrec` library.\n",
    "\n",
    "2. **Data Preprocessing**:\n",
    "    - Sample a subset of the transactions dataset for efficient processing.\n",
    "    - Inspect the dataset structure and information.\n",
    "    - Split the transactions dataset into training and testing sets based on time, ensuring realistic evaluation.\n",
    "\n",
    "3. **Model Initialization**:\n",
    "    - Initialize multiple recommendation models, including:\n",
    "      - `HybridSlimFM`: A hybrid model combining SLIM and Factorization Machines.\n",
    "      - `SLIM`: Sparse Linear Methods for recommendation.\n",
    "      - `LightFM`: A model combining collaborative and content-based filtering.\n",
    "\n",
    "4. **Training**:\n",
    "    - Train the models using the training dataset, incorporating user and item tags where applicable.\n",
    "\n",
    "5. **Evaluation**:\n",
    "    - Evaluate the models on the test dataset using metrics like recommendation accuracy and filtering interacted items.\n",
    "\n",
    "This notebook provides a comprehensive workflow for experimenting with hybrid recommendation systems and comparing the performance of different models using the H&M dataset."
   ]
  },
  {
   "cell_type": "code",
   "execution_count": 1,
   "id": "a29ae567-c9c0-4737-926f-87dbd55a9e23",
   "metadata": {},
   "outputs": [
    {
     "name": "stdout",
     "output_type": "stream",
     "text": [
      "File already exists at datasets/kaggle/h-and-m/transactions_train.csv.\n"
     ]
    },
    {
     "data": {
      "text/html": [
       "<div>\n",
       "<style scoped>\n",
       "    .dataframe tbody tr th:only-of-type {\n",
       "        vertical-align: middle;\n",
       "    }\n",
       "\n",
       "    .dataframe tbody tr th {\n",
       "        vertical-align: top;\n",
       "    }\n",
       "\n",
       "    .dataframe thead th {\n",
       "        text-align: right;\n",
       "    }\n",
       "</style>\n",
       "<table border=\"1\" class=\"dataframe\">\n",
       "  <thead>\n",
       "    <tr style=\"text-align: right;\">\n",
       "      <th></th>\n",
       "      <th>user</th>\n",
       "      <th>item</th>\n",
       "      <th>price</th>\n",
       "      <th>sales_channel_id</th>\n",
       "      <th>tstamp</th>\n",
       "      <th>rating</th>\n",
       "    </tr>\n",
       "  </thead>\n",
       "  <tbody>\n",
       "    <tr>\n",
       "      <th>0</th>\n",
       "      <td>9216525696054190872</td>\n",
       "      <td>663713001</td>\n",
       "      <td>0.050831</td>\n",
       "      <td>2</td>\n",
       "      <td>1.537402e+09</td>\n",
       "      <td>1.0</td>\n",
       "    </tr>\n",
       "    <tr>\n",
       "      <th>1</th>\n",
       "      <td>9216525696054190872</td>\n",
       "      <td>541518023</td>\n",
       "      <td>0.030492</td>\n",
       "      <td>2</td>\n",
       "      <td>1.537402e+09</td>\n",
       "      <td>1.0</td>\n",
       "    </tr>\n",
       "    <tr>\n",
       "      <th>2</th>\n",
       "      <td>888740269715967170</td>\n",
       "      <td>505221004</td>\n",
       "      <td>0.015237</td>\n",
       "      <td>2</td>\n",
       "      <td>1.537402e+09</td>\n",
       "      <td>1.0</td>\n",
       "    </tr>\n",
       "    <tr>\n",
       "      <th>3</th>\n",
       "      <td>888740269715967170</td>\n",
       "      <td>685687003</td>\n",
       "      <td>0.016932</td>\n",
       "      <td>2</td>\n",
       "      <td>1.537402e+09</td>\n",
       "      <td>1.0</td>\n",
       "    </tr>\n",
       "    <tr>\n",
       "      <th>4</th>\n",
       "      <td>888740269715967170</td>\n",
       "      <td>685687004</td>\n",
       "      <td>0.016932</td>\n",
       "      <td>2</td>\n",
       "      <td>1.537402e+09</td>\n",
       "      <td>1.0</td>\n",
       "    </tr>\n",
       "    <tr>\n",
       "      <th>...</th>\n",
       "      <td>...</td>\n",
       "      <td>...</td>\n",
       "      <td>...</td>\n",
       "      <td>...</td>\n",
       "      <td>...</td>\n",
       "      <td>...</td>\n",
       "    </tr>\n",
       "    <tr>\n",
       "      <th>31788319</th>\n",
       "      <td>4685485978980270934</td>\n",
       "      <td>929511001</td>\n",
       "      <td>0.059305</td>\n",
       "      <td>2</td>\n",
       "      <td>1.600733e+09</td>\n",
       "      <td>1.0</td>\n",
       "    </tr>\n",
       "    <tr>\n",
       "      <th>31788320</th>\n",
       "      <td>4685485978980270934</td>\n",
       "      <td>891322004</td>\n",
       "      <td>0.042356</td>\n",
       "      <td>2</td>\n",
       "      <td>1.600733e+09</td>\n",
       "      <td>1.0</td>\n",
       "    </tr>\n",
       "    <tr>\n",
       "      <th>31788321</th>\n",
       "      <td>3959348689921271969</td>\n",
       "      <td>918325001</td>\n",
       "      <td>0.043203</td>\n",
       "      <td>1</td>\n",
       "      <td>1.600733e+09</td>\n",
       "      <td>1.0</td>\n",
       "    </tr>\n",
       "    <tr>\n",
       "      <th>31788322</th>\n",
       "      <td>584031991477264143</td>\n",
       "      <td>833459002</td>\n",
       "      <td>0.006763</td>\n",
       "      <td>1</td>\n",
       "      <td>1.600733e+09</td>\n",
       "      <td>1.0</td>\n",
       "    </tr>\n",
       "    <tr>\n",
       "      <th>31788323</th>\n",
       "      <td>3235222691137941515</td>\n",
       "      <td>898573003</td>\n",
       "      <td>0.033881</td>\n",
       "      <td>2</td>\n",
       "      <td>1.600733e+09</td>\n",
       "      <td>1.0</td>\n",
       "    </tr>\n",
       "  </tbody>\n",
       "</table>\n",
       "<p>31788324 rows × 6 columns</p>\n",
       "</div>"
      ],
      "text/plain": [
       "                         user       item     price  sales_channel_id  \\\n",
       "0         9216525696054190872  663713001  0.050831                 2   \n",
       "1         9216525696054190872  541518023  0.030492                 2   \n",
       "2          888740269715967170  505221004  0.015237                 2   \n",
       "3          888740269715967170  685687003  0.016932                 2   \n",
       "4          888740269715967170  685687004  0.016932                 2   \n",
       "...                       ...        ...       ...               ...   \n",
       "31788319  4685485978980270934  929511001  0.059305                 2   \n",
       "31788320  4685485978980270934  891322004  0.042356                 2   \n",
       "31788321  3959348689921271969  918325001  0.043203                 1   \n",
       "31788322   584031991477264143  833459002  0.006763                 1   \n",
       "31788323  3235222691137941515  898573003  0.033881                 2   \n",
       "\n",
       "                tstamp  rating  \n",
       "0         1.537402e+09     1.0  \n",
       "1         1.537402e+09     1.0  \n",
       "2         1.537402e+09     1.0  \n",
       "3         1.537402e+09     1.0  \n",
       "4         1.537402e+09     1.0  \n",
       "...                ...     ...  \n",
       "31788319  1.600733e+09     1.0  \n",
       "31788320  1.600733e+09     1.0  \n",
       "31788321  1.600733e+09     1.0  \n",
       "31788322  1.600733e+09     1.0  \n",
       "31788323  1.600733e+09     1.0  \n",
       "\n",
       "[31788324 rows x 6 columns]"
      ]
     },
     "execution_count": 1,
     "metadata": {},
     "output_type": "execute_result"
    }
   ],
   "source": [
    "from rtrec.experiments.kaggle_datasets import load_hm_dataset\n",
    "\n",
    "transactions = load_hm_dataset()\n",
    "transactions"
   ]
  },
  {
   "cell_type": "code",
   "execution_count": 2,
   "id": "07f32a86",
   "metadata": {},
   "outputs": [],
   "source": [
    "transactions = transactions.sample(frac=0.05, random_state=42)"
   ]
  },
  {
   "cell_type": "code",
   "execution_count": 3,
   "id": "5548373a",
   "metadata": {},
   "outputs": [
    {
     "data": {
      "text/html": [
       "<div>\n",
       "<style scoped>\n",
       "    .dataframe tbody tr th:only-of-type {\n",
       "        vertical-align: middle;\n",
       "    }\n",
       "\n",
       "    .dataframe tbody tr th {\n",
       "        vertical-align: top;\n",
       "    }\n",
       "\n",
       "    .dataframe thead th {\n",
       "        text-align: right;\n",
       "    }\n",
       "</style>\n",
       "<table border=\"1\" class=\"dataframe\">\n",
       "  <thead>\n",
       "    <tr style=\"text-align: right;\">\n",
       "      <th></th>\n",
       "      <th>user</th>\n",
       "      <th>item</th>\n",
       "      <th>price</th>\n",
       "      <th>sales_channel_id</th>\n",
       "      <th>tstamp</th>\n",
       "      <th>rating</th>\n",
       "    </tr>\n",
       "  </thead>\n",
       "  <tbody>\n",
       "    <tr>\n",
       "      <th>16558544</th>\n",
       "      <td>3915371767870068292</td>\n",
       "      <td>786586001</td>\n",
       "      <td>0.022017</td>\n",
       "      <td>1</td>\n",
       "      <td>1.568333e+09</td>\n",
       "      <td>1.0</td>\n",
       "    </tr>\n",
       "    <tr>\n",
       "      <th>6583409</th>\n",
       "      <td>5056261243377697188</td>\n",
       "      <td>658911001</td>\n",
       "      <td>0.028797</td>\n",
       "      <td>2</td>\n",
       "      <td>1.550880e+09</td>\n",
       "      <td>1.0</td>\n",
       "    </tr>\n",
       "    <tr>\n",
       "      <th>13976622</th>\n",
       "      <td>5222503288154568012</td>\n",
       "      <td>759326005</td>\n",
       "      <td>0.050831</td>\n",
       "      <td>2</td>\n",
       "      <td>1.563322e+09</td>\n",
       "      <td>1.0</td>\n",
       "    </tr>\n",
       "    <tr>\n",
       "      <th>10327778</th>\n",
       "      <td>1187699526868400021</td>\n",
       "      <td>737137004</td>\n",
       "      <td>0.027102</td>\n",
       "      <td>1</td>\n",
       "      <td>1.557965e+09</td>\n",
       "      <td>1.0</td>\n",
       "    </tr>\n",
       "    <tr>\n",
       "      <th>15285658</th>\n",
       "      <td>4727407853099057127</td>\n",
       "      <td>785931001</td>\n",
       "      <td>0.050831</td>\n",
       "      <td>2</td>\n",
       "      <td>1.565395e+09</td>\n",
       "      <td>1.0</td>\n",
       "    </tr>\n",
       "    <tr>\n",
       "      <th>...</th>\n",
       "      <td>...</td>\n",
       "      <td>...</td>\n",
       "      <td>...</td>\n",
       "      <td>...</td>\n",
       "      <td>...</td>\n",
       "      <td>...</td>\n",
       "    </tr>\n",
       "    <tr>\n",
       "      <th>12877254</th>\n",
       "      <td>99934464486908387</td>\n",
       "      <td>774167003</td>\n",
       "      <td>0.101678</td>\n",
       "      <td>2</td>\n",
       "      <td>1.561680e+09</td>\n",
       "      <td>1.0</td>\n",
       "    </tr>\n",
       "    <tr>\n",
       "      <th>14972391</th>\n",
       "      <td>4865465219017154622</td>\n",
       "      <td>767577011</td>\n",
       "      <td>0.025407</td>\n",
       "      <td>1</td>\n",
       "      <td>1.564790e+09</td>\n",
       "      <td>1.0</td>\n",
       "    </tr>\n",
       "    <tr>\n",
       "      <th>3439878</th>\n",
       "      <td>3837155778372452700</td>\n",
       "      <td>198518010</td>\n",
       "      <td>0.016932</td>\n",
       "      <td>2</td>\n",
       "      <td>1.544054e+09</td>\n",
       "      <td>1.0</td>\n",
       "    </tr>\n",
       "    <tr>\n",
       "      <th>15883711</th>\n",
       "      <td>5008351590642632763</td>\n",
       "      <td>465655010</td>\n",
       "      <td>0.016932</td>\n",
       "      <td>2</td>\n",
       "      <td>1.566605e+09</td>\n",
       "      <td>1.0</td>\n",
       "    </tr>\n",
       "    <tr>\n",
       "      <th>14435344</th>\n",
       "      <td>7444183509385159112</td>\n",
       "      <td>629758005</td>\n",
       "      <td>0.010153</td>\n",
       "      <td>2</td>\n",
       "      <td>1.563926e+09</td>\n",
       "      <td>1.0</td>\n",
       "    </tr>\n",
       "  </tbody>\n",
       "</table>\n",
       "<p>1589416 rows × 6 columns</p>\n",
       "</div>"
      ],
      "text/plain": [
       "                         user       item     price  sales_channel_id  \\\n",
       "16558544  3915371767870068292  786586001  0.022017                 1   \n",
       "6583409   5056261243377697188  658911001  0.028797                 2   \n",
       "13976622  5222503288154568012  759326005  0.050831                 2   \n",
       "10327778  1187699526868400021  737137004  0.027102                 1   \n",
       "15285658  4727407853099057127  785931001  0.050831                 2   \n",
       "...                       ...        ...       ...               ...   \n",
       "12877254    99934464486908387  774167003  0.101678                 2   \n",
       "14972391  4865465219017154622  767577011  0.025407                 1   \n",
       "3439878   3837155778372452700  198518010  0.016932                 2   \n",
       "15883711  5008351590642632763  465655010  0.016932                 2   \n",
       "14435344  7444183509385159112  629758005  0.010153                 2   \n",
       "\n",
       "                tstamp  rating  \n",
       "16558544  1.568333e+09     1.0  \n",
       "6583409   1.550880e+09     1.0  \n",
       "13976622  1.563322e+09     1.0  \n",
       "10327778  1.557965e+09     1.0  \n",
       "15285658  1.565395e+09     1.0  \n",
       "...                ...     ...  \n",
       "12877254  1.561680e+09     1.0  \n",
       "14972391  1.564790e+09     1.0  \n",
       "3439878   1.544054e+09     1.0  \n",
       "15883711  1.566605e+09     1.0  \n",
       "14435344  1.563926e+09     1.0  \n",
       "\n",
       "[1589416 rows x 6 columns]"
      ]
     },
     "execution_count": 3,
     "metadata": {},
     "output_type": "execute_result"
    }
   ],
   "source": [
    "transactions"
   ]
  },
  {
   "cell_type": "code",
   "execution_count": 4,
   "id": "fb4695c2",
   "metadata": {},
   "outputs": [
    {
     "name": "stdout",
     "output_type": "stream",
     "text": [
      "<class 'pandas.core.frame.DataFrame'>\n",
      "Index: 1589416 entries, 16558544 to 14435344\n",
      "Data columns (total 6 columns):\n",
      " #   Column            Non-Null Count    Dtype  \n",
      "---  ------            --------------    -----  \n",
      " 0   user              1589416 non-null  int64  \n",
      " 1   item              1589416 non-null  Int32  \n",
      " 2   price             1589416 non-null  float32\n",
      " 3   sales_channel_id  1589416 non-null  Int8   \n",
      " 4   tstamp            1589416 non-null  float64\n",
      " 5   rating            1589416 non-null  float64\n",
      "dtypes: Int32(1), Int8(1), float32(1), float64(2), int64(1)\n",
      "memory usage: 65.2 MB\n"
     ]
    }
   ],
   "source": [
    "transactions.info()"
   ]
  },
  {
   "cell_type": "code",
   "execution_count": 5,
   "id": "cfe32572",
   "metadata": {},
   "outputs": [
    {
     "data": {
      "text/html": [
       "<div>\n",
       "<style scoped>\n",
       "    .dataframe tbody tr th:only-of-type {\n",
       "        vertical-align: middle;\n",
       "    }\n",
       "\n",
       "    .dataframe tbody tr th {\n",
       "        vertical-align: top;\n",
       "    }\n",
       "\n",
       "    .dataframe thead th {\n",
       "        text-align: right;\n",
       "    }\n",
       "</style>\n",
       "<table border=\"1\" class=\"dataframe\">\n",
       "  <thead>\n",
       "    <tr style=\"text-align: right;\">\n",
       "      <th></th>\n",
       "      <th>user</th>\n",
       "      <th>item</th>\n",
       "      <th>price</th>\n",
       "      <th>sales_channel_id</th>\n",
       "      <th>tstamp</th>\n",
       "      <th>rating</th>\n",
       "    </tr>\n",
       "  </thead>\n",
       "  <tbody>\n",
       "    <tr>\n",
       "      <th>16558544</th>\n",
       "      <td>3915371767870068292</td>\n",
       "      <td>786586001</td>\n",
       "      <td>0.022017</td>\n",
       "      <td>1</td>\n",
       "      <td>1.568333e+09</td>\n",
       "      <td>1.0</td>\n",
       "    </tr>\n",
       "    <tr>\n",
       "      <th>6583409</th>\n",
       "      <td>5056261243377697188</td>\n",
       "      <td>658911001</td>\n",
       "      <td>0.028797</td>\n",
       "      <td>2</td>\n",
       "      <td>1.550880e+09</td>\n",
       "      <td>1.0</td>\n",
       "    </tr>\n",
       "    <tr>\n",
       "      <th>13976622</th>\n",
       "      <td>5222503288154568012</td>\n",
       "      <td>759326005</td>\n",
       "      <td>0.050831</td>\n",
       "      <td>2</td>\n",
       "      <td>1.563322e+09</td>\n",
       "      <td>1.0</td>\n",
       "    </tr>\n",
       "    <tr>\n",
       "      <th>10327778</th>\n",
       "      <td>1187699526868400021</td>\n",
       "      <td>737137004</td>\n",
       "      <td>0.027102</td>\n",
       "      <td>1</td>\n",
       "      <td>1.557965e+09</td>\n",
       "      <td>1.0</td>\n",
       "    </tr>\n",
       "    <tr>\n",
       "      <th>15285658</th>\n",
       "      <td>4727407853099057127</td>\n",
       "      <td>785931001</td>\n",
       "      <td>0.050831</td>\n",
       "      <td>2</td>\n",
       "      <td>1.565395e+09</td>\n",
       "      <td>1.0</td>\n",
       "    </tr>\n",
       "    <tr>\n",
       "      <th>...</th>\n",
       "      <td>...</td>\n",
       "      <td>...</td>\n",
       "      <td>...</td>\n",
       "      <td>...</td>\n",
       "      <td>...</td>\n",
       "      <td>...</td>\n",
       "    </tr>\n",
       "    <tr>\n",
       "      <th>12877254</th>\n",
       "      <td>99934464486908387</td>\n",
       "      <td>774167003</td>\n",
       "      <td>0.101678</td>\n",
       "      <td>2</td>\n",
       "      <td>1.561680e+09</td>\n",
       "      <td>1.0</td>\n",
       "    </tr>\n",
       "    <tr>\n",
       "      <th>14972391</th>\n",
       "      <td>4865465219017154622</td>\n",
       "      <td>767577011</td>\n",
       "      <td>0.025407</td>\n",
       "      <td>1</td>\n",
       "      <td>1.564790e+09</td>\n",
       "      <td>1.0</td>\n",
       "    </tr>\n",
       "    <tr>\n",
       "      <th>3439878</th>\n",
       "      <td>3837155778372452700</td>\n",
       "      <td>198518010</td>\n",
       "      <td>0.016932</td>\n",
       "      <td>2</td>\n",
       "      <td>1.544054e+09</td>\n",
       "      <td>1.0</td>\n",
       "    </tr>\n",
       "    <tr>\n",
       "      <th>15883711</th>\n",
       "      <td>5008351590642632763</td>\n",
       "      <td>465655010</td>\n",
       "      <td>0.016932</td>\n",
       "      <td>2</td>\n",
       "      <td>1.566605e+09</td>\n",
       "      <td>1.0</td>\n",
       "    </tr>\n",
       "    <tr>\n",
       "      <th>14435344</th>\n",
       "      <td>7444183509385159112</td>\n",
       "      <td>629758005</td>\n",
       "      <td>0.010153</td>\n",
       "      <td>2</td>\n",
       "      <td>1.563926e+09</td>\n",
       "      <td>1.0</td>\n",
       "    </tr>\n",
       "  </tbody>\n",
       "</table>\n",
       "<p>1589416 rows × 6 columns</p>\n",
       "</div>"
      ],
      "text/plain": [
       "                         user       item     price  sales_channel_id  \\\n",
       "16558544  3915371767870068292  786586001  0.022017                 1   \n",
       "6583409   5056261243377697188  658911001  0.028797                 2   \n",
       "13976622  5222503288154568012  759326005  0.050831                 2   \n",
       "10327778  1187699526868400021  737137004  0.027102                 1   \n",
       "15285658  4727407853099057127  785931001  0.050831                 2   \n",
       "...                       ...        ...       ...               ...   \n",
       "12877254    99934464486908387  774167003  0.101678                 2   \n",
       "14972391  4865465219017154622  767577011  0.025407                 1   \n",
       "3439878   3837155778372452700  198518010  0.016932                 2   \n",
       "15883711  5008351590642632763  465655010  0.016932                 2   \n",
       "14435344  7444183509385159112  629758005  0.010153                 2   \n",
       "\n",
       "                tstamp  rating  \n",
       "16558544  1.568333e+09     1.0  \n",
       "6583409   1.550880e+09     1.0  \n",
       "13976622  1.563322e+09     1.0  \n",
       "10327778  1.557965e+09     1.0  \n",
       "15285658  1.565395e+09     1.0  \n",
       "...                ...     ...  \n",
       "12877254  1.561680e+09     1.0  \n",
       "14972391  1.564790e+09     1.0  \n",
       "3439878   1.544054e+09     1.0  \n",
       "15883711  1.566605e+09     1.0  \n",
       "14435344  1.563926e+09     1.0  \n",
       "\n",
       "[1589416 rows x 6 columns]"
      ]
     },
     "execution_count": 5,
     "metadata": {},
     "output_type": "execute_result"
    }
   ],
   "source": [
    "transactions"
   ]
  },
  {
   "cell_type": "code",
   "execution_count": null,
   "id": "a20e8418-eea5-4fe1-ad27-2528f98be4a4",
   "metadata": {},
   "outputs": [],
   "source": [
    "from rtrec.experiments.kaggle_datasets import load_hm_user_tags\n",
    "user_tags = load_hm_user_tags()\n",
    "user_tags"
   ]
  },
  {
   "cell_type": "code",
   "execution_count": null,
   "id": "d97f2f5c",
   "metadata": {},
   "outputs": [],
   "source": [
    "from rtrec.experiments.kaggle_datasets import load_hm_item_tags\n",
    "\n",
    "item_tags = load_hm_item_tags()\n",
    "item_tags"
   ]
  },
  {
   "cell_type": "code",
   "execution_count": 8,
   "id": "f97db4a2",
   "metadata": {},
   "outputs": [],
   "source": [
    "from rtrec.experiments.split import temporal_split\n",
    "\n",
    "train_df, test_df = temporal_split(transactions, test_frac=0.2)"
   ]
  },
  {
   "cell_type": "code",
   "execution_count": 9,
   "id": "c9f35f07",
   "metadata": {},
   "outputs": [
    {
     "name": "stderr",
     "output_type": "stream",
     "text": [
      "/Users/myui/workspace/myui/rtrec/.venv/lib/python3.12/site-packages/lightfm/_lightfm_fast.py:9: UserWarning: LightFM was compiled without OpenMP support. Only a single thread will be used.\n",
      "  warnings.warn(\n",
      "/Users/myui/workspace/myui/rtrec/.venv/lib/python3.12/site-packages/tqdm/auto.py:21: TqdmWarning: IProgress not found. Please update jupyter and ipywidgets. See https://ipywidgets.readthedocs.io/en/stable/user_install.html\n",
      "  from .autonotebook import tqdm as notebook_tqdm\n"
     ]
    }
   ],
   "source": [
    "from rtrec.recommender import Recommender\n",
    "from rtrec.models import HybridSlimFM\n",
    "\n",
    "hybrid_model = HybridSlimFM(no_components=10, epochs=20, use_bias=True, nn_feature_selection=50, force_identify=True, decay_in_days=180)\n",
    "hybrid_recommender = Recommender(hybrid_model)"
   ]
  },
  {
   "cell_type": "code",
   "execution_count": 10,
   "id": "9b7f0555",
   "metadata": {},
   "outputs": [],
   "source": [
    "from rtrec.models import SLIM\n",
    "\n",
    "slim_model = SLIM(epochs=20, use_bias=True, nn_feature_selection=50, force_identify=True, decay_in_days=180)\n",
    "slim_recommender = Recommender(slim_model)"
   ]
  },
  {
   "cell_type": "code",
   "execution_count": 11,
   "id": "4325629b",
   "metadata": {},
   "outputs": [],
   "source": [
    "from rtrec.recommender import Recommender\n",
    "from rtrec.models import LightFM\n",
    "\n",
    "fm_model = LightFM(no_components=10, loss=\"warp\", epochs=20, use_bias=True, force_identify=True, decay_in_days=180)\n",
    "fm_recommender = Recommender(fm_model)"
   ]
  },
  {
   "cell_type": "code",
   "execution_count": 12,
   "id": "6641d1af",
   "metadata": {},
   "outputs": [],
   "source": [
    "train_user_tags = {int(user): user_tags[user] for user in train_df.user.unique() if user in user_tags}"
   ]
  },
  {
   "cell_type": "code",
   "execution_count": 13,
   "id": "ef0346ab",
   "metadata": {},
   "outputs": [],
   "source": [
    "train_item_tags = {int(item): item_tags[item] for item in train_df.item.unique() if item in item_tags}"
   ]
  },
  {
   "cell_type": "code",
   "execution_count": 14,
   "id": "684a3e4e",
   "metadata": {},
   "outputs": [
    {
     "name": "stderr",
     "output_type": "stream",
     "text": [
      "Register user features: 100%|██████████| 537243/537243 [00:01<00:00, 481154.27it/s]\n",
      "Register item features: 100%|██████████| 68109/68109 [00:00<00:00, 509009.46it/s]\n",
      "Add interactions: 100%|██████████| 1272/1272 [00:02<00:00, 473.00it/s]\n",
      "Epoch: 100%|██████████| 20/20 [00:48<00:00,  2.41s/it]\n",
      "Fitting SLIMElastic in parallel:   0%|          | 0/681 [00:00<?, ?it/s]/Users/myui/workspace/myui/rtrec/.venv/lib/python3.12/site-packages/lightfm/_lightfm_fast.py:9: UserWarning: LightFM was compiled without OpenMP support. Only a single thread will be used.\n",
      "  warnings.warn(\n",
      "/Users/myui/workspace/myui/rtrec/.venv/lib/python3.12/site-packages/lightfm/_lightfm_fast.py:9: UserWarning: LightFM was compiled without OpenMP support. Only a single thread will be used.\n",
      "  warnings.warn(\n",
      "/Users/myui/workspace/myui/rtrec/.venv/lib/python3.12/site-packages/lightfm/_lightfm_fast.py:9: UserWarning: LightFM was compiled without OpenMP support. Only a single thread will be used.\n",
      "  warnings.warn(\n",
      "/Users/myui/workspace/myui/rtrec/.venv/lib/python3.12/site-packages/lightfm/_lightfm_fast.py:9: UserWarning: LightFM was compiled without OpenMP support. Only a single thread will be used.\n",
      "  warnings.warn(\n",
      "/Users/myui/workspace/myui/rtrec/.venv/lib/python3.12/site-packages/lightfm/_lightfm_fast.py:9: UserWarning: LightFM was compiled without OpenMP support. Only a single thread will be used.\n",
      "  warnings.warn(\n",
      "Fitting SLIMElastic in parallel: 100%|██████████| 681/681 [01:12<00:00,  9.39it/s]"
     ]
    },
    {
     "name": "stdout",
     "output_type": "stream",
     "text": [
      "Fit completed in 126.79 seconds\n",
      "Throughput: 10028.51 samples/sec\n"
     ]
    },
    {
     "name": "stderr",
     "output_type": "stream",
     "text": [
      "\n"
     ]
    },
    {
     "data": {
      "text/plain": [
       "<rtrec.recommender.Recommender at 0x3393c32c0>"
      ]
     },
     "execution_count": 14,
     "metadata": {},
     "output_type": "execute_result"
    }
   ],
   "source": [
    "hybrid_recommender.bulk_fit(train_df, user_tags=train_user_tags, item_tags=train_item_tags)"
   ]
  },
  {
   "cell_type": "code",
   "execution_count": 15,
   "id": "b8f9130c",
   "metadata": {},
   "outputs": [],
   "source": [
    "test_user_tags = {int(user): user_tags[user] for user in test_df.user.unique() if user in user_tags}"
   ]
  },
  {
   "cell_type": "code",
   "execution_count": 16,
   "id": "a2093b4b",
   "metadata": {},
   "outputs": [
    {
     "data": {
      "text/plain": [
       "209728"
      ]
     },
     "execution_count": 16,
     "metadata": {},
     "output_type": "execute_result"
    }
   ],
   "source": [
    "len(test_df.user.unique())"
   ]
  },
  {
   "cell_type": "code",
   "execution_count": 17,
   "id": "d579542b",
   "metadata": {},
   "outputs": [
    {
     "data": {
      "text/plain": [
       "79392"
      ]
     },
     "execution_count": 17,
     "metadata": {},
     "output_type": "execute_result"
    }
   ],
   "source": [
    "len(set(test_df.user.unique()) - set(train_df.user.unique()))"
   ]
  },
  {
   "cell_type": "code",
   "execution_count": 18,
   "id": "d676d15c",
   "metadata": {},
   "outputs": [
    {
     "name": "stderr",
     "output_type": "stream",
     "text": [
      "100%|██████████| 2098/2098 [58:11<00:00,  1.66s/it]    \n"
     ]
    },
    {
     "data": {
      "text/plain": [
       "{'precision': 0.0006699153188892107,\n",
       " 'recall': 0.005002651376168514,\n",
       " 'f1': 0.0011476094710875515,\n",
       " 'ndcg': 0.0027577877027014606,\n",
       " 'hit_rate': 0.00663716814159292,\n",
       " 'mrr': 0.00245565987813089,\n",
       " 'map': 0.0018575420030896475,\n",
       " 'tp': 1405,\n",
       " 'auc': 0.003837609506916904}"
      ]
     },
     "execution_count": 18,
     "metadata": {},
     "output_type": "execute_result"
    }
   ],
   "source": [
    "hybrid_recommender.evaluate(test_df, test_user_tags, recommend_size=10, filter_interacted=True)"
   ]
  },
  {
   "cell_type": "code",
   "execution_count": 19,
   "id": "794a792b",
   "metadata": {},
   "outputs": [
    {
     "name": "stderr",
     "output_type": "stream",
     "text": [
      "Register user features: 100%|██████████| 537243/537243 [00:01<00:00, 444562.82it/s]\n",
      "Register item features: 100%|██████████| 68109/68109 [00:00<00:00, 542437.54it/s]\n",
      "Add interactions: 100%|██████████| 1272/1272 [00:02<00:00, 452.15it/s]\n",
      "Epoch: 100%|██████████| 20/20 [00:50<00:00,  2.50s/it]"
     ]
    },
    {
     "name": "stdout",
     "output_type": "stream",
     "text": [
      "Fit completed in 55.72 seconds\n",
      "Throughput: 22818.09 samples/sec\n"
     ]
    },
    {
     "name": "stderr",
     "output_type": "stream",
     "text": [
      "\n"
     ]
    },
    {
     "data": {
      "text/plain": [
       "<rtrec.recommender.Recommender at 0x338e23110>"
      ]
     },
     "execution_count": 19,
     "metadata": {},
     "output_type": "execute_result"
    }
   ],
   "source": [
    "fm_recommender.bulk_fit(train_df, user_tags=train_user_tags, item_tags=train_item_tags)"
   ]
  },
  {
   "cell_type": "code",
   "execution_count": 20,
   "id": "52223067",
   "metadata": {},
   "outputs": [
    {
     "name": "stderr",
     "output_type": "stream",
     "text": [
      "100%|██████████| 2098/2098 [16:02<00:00,  2.18it/s]\n"
     ]
    },
    {
     "data": {
      "text/plain": [
       "{'precision': 0.0006661008544400193,\n",
       " 'recall': 0.004957311474049312,\n",
       " 'f1': 0.001139784709161968,\n",
       " 'ndcg': 0.0027348030098272346,\n",
       " 'hit_rate': 0.006632400061031431,\n",
       " 'mrr': 0.0024556163599352854,\n",
       " 'map': 0.0018337039789164968,\n",
       " 'tp': 1397,\n",
       " 'auc': 0.003877906409995604}"
      ]
     },
     "execution_count": 20,
     "metadata": {},
     "output_type": "execute_result"
    }
   ],
   "source": [
    "fm_recommender.evaluate(test_df, test_user_tags, recommend_size=10, filter_interacted=True)"
   ]
  },
  {
   "cell_type": "code",
   "execution_count": 21,
   "id": "fc405833",
   "metadata": {},
   "outputs": [
    {
     "name": "stderr",
     "output_type": "stream",
     "text": [
      "Add interactions: 100%|██████████| 1272/1272 [00:02<00:00, 585.23it/s]\n",
      "Fitting SLIMElastic in parallel:   0%|          | 0/681 [00:00<?, ?it/s]/Users/myui/workspace/myui/rtrec/.venv/lib/python3.12/site-packages/lightfm/_lightfm_fast.py:9: UserWarning: LightFM was compiled without OpenMP support. Only a single thread will be used.\n",
      "  warnings.warn(\n",
      "/Users/myui/workspace/myui/rtrec/.venv/lib/python3.12/site-packages/lightfm/_lightfm_fast.py:9: UserWarning: LightFM was compiled without OpenMP support. Only a single thread will be used.\n",
      "  warnings.warn(\n",
      "/Users/myui/workspace/myui/rtrec/.venv/lib/python3.12/site-packages/lightfm/_lightfm_fast.py:9: UserWarning: LightFM was compiled without OpenMP support. Only a single thread will be used.\n",
      "  warnings.warn(\n",
      "/Users/myui/workspace/myui/rtrec/.venv/lib/python3.12/site-packages/lightfm/_lightfm_fast.py:9: UserWarning: LightFM was compiled without OpenMP support. Only a single thread will be used.\n",
      "  warnings.warn(\n",
      "/Users/myui/workspace/myui/rtrec/.venv/lib/python3.12/site-packages/lightfm/_lightfm_fast.py:9: UserWarning: LightFM was compiled without OpenMP support. Only a single thread will be used.\n",
      "  warnings.warn(\n",
      "Fitting SLIMElastic in parallel: 100%|██████████| 681/681 [01:12<00:00,  9.40it/s]"
     ]
    },
    {
     "name": "stdout",
     "output_type": "stream",
     "text": [
      "Fit completed in 75.21 seconds\n",
      "Throughput: 16906.85 samples/sec\n"
     ]
    },
    {
     "name": "stderr",
     "output_type": "stream",
     "text": [
      "\n"
     ]
    },
    {
     "data": {
      "text/plain": [
       "<rtrec.recommender.Recommender at 0x33939b170>"
      ]
     },
     "execution_count": 21,
     "metadata": {},
     "output_type": "execute_result"
    }
   ],
   "source": [
    "slim_recommender.bulk_fit(train_df)"
   ]
  },
  {
   "cell_type": "code",
   "execution_count": 22,
   "id": "9d78200b",
   "metadata": {},
   "outputs": [
    {
     "name": "stderr",
     "output_type": "stream",
     "text": [
      "100%|██████████| 2098/2098 [04:49<00:00,  7.24it/s]\n"
     ]
    },
    {
     "data": {
      "text/plain": [
       "{'precision': 0.000411962160512661,\n",
       " 'recall': 0.003301795507771821,\n",
       " 'f1': 0.0007180679168625928,\n",
       " 'ndcg': 0.001808729129026709,\n",
       " 'hit_rate': 0.004110085444003662,\n",
       " 'mrr': 0.0015615236787421703,\n",
       " 'map': 0.0012383621307739685,\n",
       " 'tp': 864,\n",
       " 'auc': 0.002470958415980065}"
      ]
     },
     "execution_count": 22,
     "metadata": {},
     "output_type": "execute_result"
    }
   ],
   "source": [
    "slim_recommender.evaluate(test_df, recommend_size=10, filter_interacted=True)"
   ]
  },
  {
   "cell_type": "markdown",
   "id": "5fe5648a",
   "metadata": {},
   "source": [
    "### Evaluation Results Explanation\n",
    "\n",
    "The evaluation results demonstrate that the **Hybrid model** outperforms both the **Collaborative Filtering (CF)** model (SLIM) and the **Content-Based (CB)** model (LightFM) in terms of **Mean Average Precision (MAP)** and **Normalized Discounted Cumulative Gain (NDCG)**. Here's a breakdown of the metrics and the reasons for the Hybrid model's superior performance:\n",
    "\n",
    "---\n",
    "\n",
    "#### **Metrics Explanation**\n",
    "1. **Mean Average Precision (MAP)**:\n",
    "    - MAP measures the precision of recommendations at different cutoff points, averaged across all users.\n",
    "    - It emphasizes the relevance of the recommended items and rewards models that rank relevant items higher.\n",
    "\n",
    "2. **Normalized Discounted Cumulative Gain (NDCG)**:\n",
    "    - NDCG evaluates the ranking quality of recommendations by considering the position of relevant items in the ranked list.\n",
    "    - Higher relevance scores for items appearing earlier in the list result in higher NDCG values.\n",
    "\n",
    "---\n",
    "\n",
    "#### **Performance Comparison**\n",
    "- **SLIM (CF)**:\n",
    "  - Performs well for users with many interactions (hot-users) because it leverages collaborative signals from user-item interaction patterns.\n",
    "  - Struggles with cold-users who have limited or no interaction history.\n",
    "\n",
    "- **LightFM (CB)**:\n",
    "  - Excels in cold-user scenarios by utilizing user and item metadata (e.g., tags, attributes).\n",
    "  - However, it may not fully capture collaborative signals, leading to suboptimal performance for hot-users.\n",
    "\n",
    "- **Hybrid Model**:\n",
    "  - Combines the strengths of both CF and CB approaches.\n",
    "  - For hot-users, it leverages collaborative signals from SLIM.\n",
    "  - For cold-users, it incorporates content-based signals from LightFM, ensuring robust performance across diverse user groups.\n",
    "\n",
    "---\n",
    "\n",
    "#### **Reason for Hybrid Model's Superiority**\n",
    "- **Hot-User Performance**:\n",
    "  - CF models like SLIM are well-suited for hot-users with rich interaction histories, as they rely on collaborative signals.\n",
    "  - The Hybrid model incorporates these collaborative signals, ensuring competitive performance for hot-users.\n",
    "\n",
    "- **Cold-User Performance**:\n",
    "  - CB models like LightFM are essential for cold-users with sparse or no interaction history, as they rely on metadata.\n",
    "  - The Hybrid model integrates these content-based signals, addressing the cold-start problem effectively.\n",
    "\n",
    "- **Balanced Approach**:\n",
    "  - By combining CF and CB signals, the Hybrid model achieves a balance, outperforming CF-only and CB-only models in both MAP and NDCG metrics.\n",
    "\n",
    "---\n",
    "\n",
    "### Conclusion\n",
    "The Hybrid model's ability to adapt to both hot-user and cold-user scenarios explains its superior MAP and NDCG results. This adaptability ensures that the model provides high-quality recommendations across a diverse user base, making it a robust choice for real-world recommendation systems."
   ]
  }
 ],
 "metadata": {
  "kernelspec": {
   "display_name": ".venv",
   "language": "python",
   "name": "python3"
  },
  "language_info": {
   "codemirror_mode": {
    "name": "ipython",
    "version": 3
   },
   "file_extension": ".py",
   "mimetype": "text/x-python",
   "name": "python",
   "nbconvert_exporter": "python",
   "pygments_lexer": "ipython3",
   "version": "3.12.9"
  }
 },
 "nbformat": 4,
 "nbformat_minor": 5
}
