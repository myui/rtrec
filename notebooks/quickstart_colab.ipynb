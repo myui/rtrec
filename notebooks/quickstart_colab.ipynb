{
 "cells": [
  {
   "cell_type": "markdown",
   "id": "c4878c3f-6435-4a70-a38c-b5b804571e24",
   "metadata": {},
   "source": [
    "[![Open In Colab](https://colab.research.google.com/assets/colab-badge.svg)](https://colab.research.google.com/github/myui/rtrec/blob/main/notebooks/quickstart_colab.ipynb)"
   ]
  },
  {
   "cell_type": "markdown",
   "id": "b1f6eb8e-26aa-4ed3-89e9-beb92e620b8d",
   "metadata": {},
   "source": [
    "# Install rtrec library using PIP"
   ]
  },
  {
   "cell_type": "code",
   "execution_count": null,
   "id": "cc05382d-4ba0-42fb-93b5-3ce3951b1fa0",
   "metadata": {},
   "outputs": [],
   "source": [
    "!pip install rtrec"
   ]
  },
  {
   "cell_type": "markdown",
   "id": "c3ffa491-428b-44da-862a-e17a404b0647",
   "metadata": {},
   "source": [
    "# Prepare data for Training and Evaluation"
   ]
  },
  {
   "cell_type": "code",
   "execution_count": null,
   "id": "19cc6d8a-85fa-45d2-9756-10c34ad4f5f8",
   "metadata": {},
   "outputs": [],
   "source": [
    "from rtrec.experiments.datasets import load_dataset\n",
    "\n",
    "# load Movielens 1M dataset\n",
    "df = load_dataset(name='movielens_1m')"
   ]
  },
  {
   "cell_type": "code",
   "execution_count": null,
   "id": "94eba247-f1b7-484b-8b3a-07d72ce72ed7",
   "metadata": {},
   "outputs": [],
   "source": [
    "# Confirm dataframe data\n",
    "df[['user', 'item', 'tstamp', 'rating']]"
   ]
  },
  {
   "cell_type": "code",
   "execution_count": null,
   "id": "38d6a149-e30e-4619-823a-52af3ca18f60",
   "metadata": {},
   "outputs": [],
   "source": [
    "# Split data set by temporal user split\n",
    "# Use 70% for training and 30% for test\n",
    "from rtrec.experiments.split import temporal_user_split\n",
    "train_df, test_df = temporal_user_split(df, test_frac=0.3)"
   ]
  },
  {
   "cell_type": "markdown",
   "id": "db1f499d-db9d-45a6-a589-f4c449d447c0",
   "metadata": {},
   "source": [
    "# Use SLIM with Feature Selection as the Model"
   ]
  },
  {
   "cell_type": "code",
   "execution_count": null,
   "id": "0c4a5cf4-a2da-4b0c-89d9-1c3c6f472f73",
   "metadata": {},
   "outputs": [],
   "source": [
    "from rtrec.recommender import Recommender\n",
    "from rtrec.models import SLIM\n",
    "\n",
    "#model = SLIM() \n",
    "model = SLIM(nn_feature_selection=50) \n",
    "#model = SLIM(min_value=0, max_value=15, decay_in_days=180, nn_feature_selection=50)\n",
    "\n",
    "recommender = Recommender(model)"
   ]
  },
  {
   "cell_type": "code",
   "execution_count": null,
   "id": "e29f85c2-f941-4f26-b201-9b1f8262bc66",
   "metadata": {},
   "outputs": [],
   "source": [
    "# Bulk fit\n",
    "recommender.bulk_fit(train_df)"
   ]
  },
  {
   "cell_type": "code",
   "execution_count": null,
   "id": "3b31f2b0-a858-4c86-bc53-850f412905b0",
   "metadata": {},
   "outputs": [],
   "source": [
    "# Evaluation\n",
    "metrics = recommender.evaluate(test_df, recommend_size=10, filter_interacted=True)\n",
    "print(metrics)"
   ]
  },
  {
   "cell_type": "markdown",
   "id": "ed1c3373-434e-4461-b2cf-1296e865b2ab",
   "metadata": {},
   "source": [
    "# Incremental Fit"
   ]
  },
  {
   "cell_type": "code",
   "execution_count": null,
   "id": "0da8b731-6391-49c7-8a61-4785279e7754",
   "metadata": {},
   "outputs": [],
   "source": [
    "from rtrec.experiments.split import temporal_split\n",
    "# Split test data into two\n",
    "test_df1, test_df2 = temporal_split(test_df, test_frac=0.5)\n",
    "\n",
    "# Incremental fit\n",
    "recommender.fit(test_df1, update_interaction=True, parallel=True)"
   ]
  },
  {
   "cell_type": "code",
   "execution_count": null,
   "id": "dabef9cb-93f3-45a8-8e3f-4e1db6cf807a",
   "metadata": {},
   "outputs": [],
   "source": [
    "# Evaluation to confirm incremental fit works\n",
    "metrics = recommender.evaluate(test_df2, recommend_size=10, filter_interacted=True)\n",
    "print(metrics)"
   ]
  },
  {
   "cell_type": "markdown",
   "id": "22619d02-5264-4894-bdeb-050b4544a3be",
   "metadata": {},
   "source": [
    "# User to Item Recommendation"
   ]
  },
  {
   "cell_type": "code",
   "execution_count": null,
   "id": "b1276b4c-8c7f-4796-bc69-0d47caf5bc42",
   "metadata": {},
   "outputs": [],
   "source": [
    "recommended = recommender.recommend(user=10, top_k=10, filter_interacted=True)\n",
    "assert len(recommended) == 10"
   ]
  },
  {
   "cell_type": "markdown",
   "id": "5a2c08ae-b57a-4697-b725-a788cd52b3ba",
   "metadata": {},
   "source": [
    "# Item to Item Recommendation"
   ]
  },
  {
   "cell_type": "code",
   "execution_count": null,
   "id": "391a0efd-c516-4576-a955-24b753362ec8",
   "metadata": {},
   "outputs": [],
   "source": [
    "# Item to Item recommendation\n",
    "similar_items = recommender.similar_items(query_items=[3,10], top_k=5)\n",
    "assert len(similar_items) == 2"
   ]
  },
  {
   "cell_type": "code",
   "execution_count": null,
   "id": "37eb18a2-cbf9-420f-a827-128ac1ad295e",
   "metadata": {},
   "outputs": [],
   "source": [
    "test_df2.head(5)"
   ]
  },
  {
   "cell_type": "markdown",
   "id": "08aa4467-3227-413b-a150-be94bc779699",
   "metadata": {},
   "source": [
    "# Play with Raw-level APIs"
   ]
  },
  {
   "cell_type": "code",
   "execution_count": null,
   "id": "8616ec38-d4a6-460c-8c55-3f0e99c643a8",
   "metadata": {},
   "outputs": [],
   "source": [
    "import time\n",
    "current_unixtime = time.time()\n",
    "interactions = [('user_1', 'item_1', current_unixtime, 5.0),\n",
    "                ('user_2', 'item_2', current_unixtime, -2.0),\n",
    "                ('user_2', 'item_1', current_unixtime, 3.0),\n",
    "                ('user_2', 'item_4', current_unixtime, 3.0),\n",
    "                ('user_1', 'item_3', current_unixtime, 4.0)]\n",
    "\n",
    "interactions"
   ]
  },
  {
   "cell_type": "code",
   "execution_count": null,
   "id": "f10db191-0616-4a13-b41b-6ad32925e348",
   "metadata": {},
   "outputs": [],
   "source": [
    "# Fit SLIM model\n",
    "from rtrec.models import SLIM\n",
    "model = SLIM()\n",
    "model.fit(interactions)"
   ]
  },
  {
   "cell_type": "code",
   "execution_count": null,
   "id": "15669024-0f64-4115-a7ca-0aa6813c6d54",
   "metadata": {},
   "outputs": [],
   "source": [
    "# can fit from streams using yield as follows:\n",
    "def yield_interactions():\n",
    "    for interaction in interactions:\n",
    "        yield interaction\n",
    "model.fit(yield_interactions())"
   ]
  },
  {
   "cell_type": "code",
   "execution_count": null,
   "id": "8ad7180f-f0c3-4653-97d9-9a4deee54c90",
   "metadata": {},
   "outputs": [],
   "source": [
    "# Recommend top-5 items for a user\n",
    "recommendations = model.recommend('user_1', top_k=5)\n",
    "assert recommendations == [\"item_4\", \"item_2\"]"
   ]
  }
 ],
 "metadata": {
  "kernelspec": {
   "display_name": "Python 3 (ipykernel)",
   "language": "python",
   "name": "python3"
  },
  "language_info": {
   "codemirror_mode": {
    "name": "ipython",
    "version": 3
   },
   "file_extension": ".py",
   "mimetype": "text/x-python",
   "name": "python",
   "nbconvert_exporter": "python",
   "pygments_lexer": "ipython3",
   "version": "3.12.6"
  }
 },
 "nbformat": 4,
 "nbformat_minor": 5
}
